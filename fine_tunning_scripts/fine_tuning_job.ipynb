{
 "cells": [
  {
   "cell_type": "code",
   "execution_count": 18,
   "metadata": {},
   "outputs": [
    {
     "name": "stdout",
     "output_type": "stream",
     "text": [
      "Fine-tuning job created successfully with ID: ftjob-371q2YSnqjJpiHx7MXzbzzTs\n"
     ]
    }
   ],
   "source": [
    "import openai\n",
    "\n",
    "# Define a function to open a file and return its contents as a string\n",
    "def open_file(filepath):\n",
    "    with open(filepath, 'r', encoding='utf-8') as infile:\n",
    "        return infile.read()\n",
    "\n",
    "# Define a function to save content to a file\n",
    "def save_file(filepath, content):\n",
    "    with open(filepath, 'a', encoding='utf-8') as outfile:\n",
    "        outfile.write(content)\n",
    "\n",
    "# Set the OpenAI API keys by reading them from files\n",
    "api_key = open_file('openaiapikey.txt')\n",
    "\n",
    "openai.api_key = api_key\n",
    "\n",
    "# Using the provided file_id\n",
    "file_id = \"file-IsJS1W8OD8LRfi0DviqXRP6Z\"\n",
    "model_name = \"gpt-3.5-turbo\"  \n",
    "\n",
    "response = openai.FineTuningJob.create(\n",
    "    training_file=file_id,\n",
    "    model=model_name\n",
    ")\n",
    "\n",
    "job_id = response['id']\n",
    "print(f\"Fine-tuning job created successfully with ID: {job_id}\")\n"
   ]
  },
  {
   "cell_type": "code",
   "execution_count": 22,
   "metadata": {},
   "outputs": [
    {
     "name": "stdout",
     "output_type": "stream",
     "text": [
      "{\n",
      "  \"object\": \"fine_tuning.job\",\n",
      "  \"id\": \"ftjob-371q2YSnqjJpiHx7MXzbzzTs\",\n",
      "  \"model\": \"gpt-3.5-turbo-0125\",\n",
      "  \"created_at\": 1727093504,\n",
      "  \"finished_at\": 1727093923,\n",
      "  \"fine_tuned_model\": \"ft:gpt-3.5-turbo-0125:personal::AAcJZ5jk\",\n",
      "  \"organization_id\": \"org-HOvlY8u2syYLsCWiLIP88QJZ\",\n",
      "  \"result_files\": [\n",
      "    \"file-3u9LW3KrPGKQZbff6asj1H2F\"\n",
      "  ],\n",
      "  \"status\": \"succeeded\",\n",
      "  \"validation_file\": null,\n",
      "  \"training_file\": \"file-IsJS1W8OD8LRfi0DviqXRP6Z\",\n",
      "  \"hyperparameters\": {\n",
      "    \"n_epochs\": 10,\n",
      "    \"batch_size\": 1,\n",
      "    \"learning_rate_multiplier\": 2\n",
      "  },\n",
      "  \"trained_tokens\": 206220,\n",
      "  \"error\": {},\n",
      "  \"user_provided_suffix\": null,\n",
      "  \"seed\": 2103791576,\n",
      "  \"estimated_finish\": null,\n",
      "  \"integrations\": []\n",
      "}\n"
     ]
    }
   ],
   "source": [
    "# Fonction pour vérifier l'état du travail de fine-tuning\n",
    "def check_fine_tune_status(job_id):\n",
    "    response = openai.FineTuningJob.retrieve(job_id)\n",
    "    return response\n",
    "\n",
    "# Récupérer l'ID du travail de fine-tuning\n",
    "job_id = \"ftjob-371q2YSnqjJpiHx7MXzbzzTs\"\n",
    "\n",
    "status = check_fine_tune_status(job_id)\n",
    "print(status)"
   ]
  },
  {
   "cell_type": "code",
   "execution_count": 19,
   "metadata": {},
   "outputs": [
    {
     "name": "stdout",
     "output_type": "stream",
     "text": [
      "{\n",
      "  \"object\": \"fine_tuning.job\",\n",
      "  \"id\": \"ftjob-371q2YSnqjJpiHx7MXzbzzTs\",\n",
      "  \"model\": \"gpt-3.5-turbo-0125\",\n",
      "  \"created_at\": 1727093504,\n",
      "  \"finished_at\": null,\n",
      "  \"fine_tuned_model\": null,\n",
      "  \"organization_id\": \"org-HOvlY8u2syYLsCWiLIP88QJZ\",\n",
      "  \"result_files\": [],\n",
      "  \"status\": \"validating_files\",\n",
      "  \"validation_file\": null,\n",
      "  \"training_file\": \"file-IsJS1W8OD8LRfi0DviqXRP6Z\",\n",
      "  \"hyperparameters\": {\n",
      "    \"n_epochs\": \"auto\",\n",
      "    \"batch_size\": \"auto\",\n",
      "    \"learning_rate_multiplier\": \"auto\"\n",
      "  },\n",
      "  \"trained_tokens\": null,\n",
      "  \"error\": {},\n",
      "  \"user_provided_suffix\": null,\n",
      "  \"seed\": 2103791576,\n",
      "  \"estimated_finish\": null,\n",
      "  \"integrations\": []\n",
      "}\n"
     ]
    }
   ],
   "source": [
    "print(response)"
   ]
  },
  {
   "cell_type": "code",
   "execution_count": 23,
   "metadata": {},
   "outputs": [
    {
     "name": "stdout",
     "output_type": "stream",
     "text": [
      "{\n",
      "    \"version\": \"1.0\",\n",
      "    \"pages\": [\n",
      "        {\n",
      "            \"name\": \"ReportSection1\",\n",
      "            \"visualContainers\": [\n",
      "                {\n",
      "                    \"displayName\": \"Slicer\",\n",
      "                   jsons\n",
      "                    \"textBox\": {\n",
      "                        \"text\": \"Slicer\"\n",
      "                    },\n",
      "                    \"slicer\": {\n",
      "                        \"general\": {\n",
      "                            \"outline\": \"Default\",\n",
      "                            \"outlineWeight\": 100,\n",
      "                            \"orientation\": 1,\n",
      "                            \"lockAspect\": true,\n",
      "                            \"visualHeader\": {\n",
      "                                \"show\": true,\n",
      "                                \"titleProximity\": true\n",
      "                            }\n",
      "                        },\n",
      "                        \"header\": {\n",
      "                            \"selectable\": true,\n",
      "                            \"show\": true,\n",
      "                            \"fontColor\": {},\n",
      "                            \"background\": {\n",
      "                                \"solid\": {\n",
      "                                    \"color\": \"#2672B3\"\n",
      "                                }\n",
      "                            }\n",
      "                        },\n",
      "                        \"slicerItems\": {\n",
      "                            \"fontColor\": {},\n",
      "                            \"selectedSlicerItems\": {\n",
      "                                \"fontColor\": {}\n",
      "                            },\n",
      "                            \"mouseHoverSlicerItems\": {\n",
      "                                \"fontColor\": {}\n",
      "                            }\n",
      "                        }\n",
      "                    }\n",
      "                }\n",
      "            ],\n",
      "            \"layoutType\": 4\n",
      "        }\n",
      "    ]\n",
      "}\n"
     ]
    }
   ],
   "source": [
    "fine_tuned_model = \"ft:gpt-3.5-turbo-0125:personal::AAcJZ5jk\"\n",
    "json = \"jsons/rapport_original.json\"\n",
    "response = openai.ChatCompletion.create(\n",
    "  model=fine_tuned_model,\n",
    "  messages=[\n",
    "    {\"role\": \"system\", \"content\": \"You are an experienced Power BI engineer working extensively with Power BI pbix format reports. You are expected to modify the report.json file based on the user description.\"},\n",
    "    {\"role\": \"user\", \"content\": f\"Please change the color of the slicer to green from the report based on the below JSON file. JSON file ={json}\"}\n",
    "  ]\n",
    ")\n",
    "json_reponse = response['choices'][0]['message']['content']\n",
    "print(json_reponse)"
   ]
  },
  {
   "cell_type": "code",
   "execution_count": 24,
   "metadata": {},
   "outputs": [],
   "source": [
    "json_reponse = response['choices'][0]['message']['content']"
   ]
  },
  {
   "cell_type": "code",
   "execution_count": 28,
   "metadata": {},
   "outputs": [
    {
     "data": {
      "text/plain": [
       "'{\\n    \"version\": \"1.0\",\\n    \"pages\": [\\n        {\\n            \"name\": \"ReportSection1\",\\n            \"visualContainers\": [\\n                {\\n                    \"displayName\": \"Slicer\",\\n                   jsons\\n                    \"textBox\": {\\n                        \"text\": \"Slicer\"\\n                    },\\n                    \"slicer\": {\\n                        \"general\": {\\n                            \"outline\": \"Default\",\\n                            \"outlineWeight\": 100,\\n                            \"orientation\": 1,\\n                            \"lockAspect\": true,\\n                            \"visualHeader\": {\\n                                \"show\": true,\\n                                \"titleProximity\": true\\n                            }\\n                        },\\n                        \"header\": {\\n                            \"selectable\": true,\\n                            \"show\": true,\\n                            \"fontColor\": {},\\n                            \"background\": {\\n                                \"solid\": {\\n                                    \"color\": \"#2672B3\"\\n                                }\\n                            }\\n                        },\\n                        \"slicerItems\": {\\n                            \"fontColor\": {},\\n                            \"selectedSlicerItems\": {\\n                                \"fontColor\": {}\\n                            },\\n                            \"mouseHoverSlicerItems\": {\\n                                \"fontColor\": {}\\n                            }\\n                        }\\n                    }\\n                }\\n            ],\\n            \"layoutType\": 4\\n        }\\n    ]\\n}'"
      ]
     },
     "execution_count": 28,
     "metadata": {},
     "output_type": "execute_result"
    }
   ],
   "source": [
    "json_reponse"
   ]
  },
  {
   "cell_type": "code",
   "execution_count": 29,
   "metadata": {},
   "outputs": [
    {
     "data": {
      "text/plain": [
       "'\"{\\\\n    \\\\\"version\\\\\": \\\\\"1.0\\\\\",\\\\n    \\\\\"pages\\\\\": [\\\\n        {\\\\n            \\\\\"name\\\\\": \\\\\"ReportSection1\\\\\",\\\\n            \\\\\"visualContainers\\\\\": [\\\\n                {\\\\n                    \\\\\"displayName\\\\\": \\\\\"Slicer\\\\\",\\\\n                   jsons\\\\n                    \\\\\"textBox\\\\\": {\\\\n                        \\\\\"text\\\\\": \\\\\"Slicer\\\\\"\\\\n                    },\\\\n                    \\\\\"slicer\\\\\": {\\\\n                        \\\\\"general\\\\\": {\\\\n                            \\\\\"outline\\\\\": \\\\\"Default\\\\\",\\\\n                            \\\\\"outlineWeight\\\\\": 100,\\\\n                            \\\\\"orientation\\\\\": 1,\\\\n                            \\\\\"lockAspect\\\\\": true,\\\\n                            \\\\\"visualHeader\\\\\": {\\\\n                                \\\\\"show\\\\\": true,\\\\n                                \\\\\"titleProximity\\\\\": true\\\\n                            }\\\\n                        },\\\\n                        \\\\\"header\\\\\": {\\\\n                            \\\\\"selectable\\\\\": true,\\\\n                            \\\\\"show\\\\\": true,\\\\n                            \\\\\"fontColor\\\\\": {},\\\\n                            \\\\\"background\\\\\": {\\\\n                                \\\\\"solid\\\\\": {\\\\n                                    \\\\\"color\\\\\": \\\\\"#2672B3\\\\\"\\\\n                                }\\\\n                            }\\\\n                        },\\\\n                        \\\\\"slicerItems\\\\\": {\\\\n                            \\\\\"fontColor\\\\\": {},\\\\n                            \\\\\"selectedSlicerItems\\\\\": {\\\\n                                \\\\\"fontColor\\\\\": {}\\\\n                            },\\\\n                            \\\\\"mouseHoverSlicerItems\\\\\": {\\\\n                                \\\\\"fontColor\\\\\": {}\\\\n                            }\\\\n                        }\\\\n                    }\\\\n                }\\\\n            ],\\\\n            \\\\\"layoutType\\\\\": 4\\\\n        }\\\\n    ]\\\\n}\"'"
      ]
     },
     "execution_count": 29,
     "metadata": {},
     "output_type": "execute_result"
    }
   ],
   "source": [
    "import json\n",
    "json.dumps(json_reponse)"
   ]
  },
  {
   "cell_type": "code",
   "execution_count": null,
   "metadata": {},
   "outputs": [],
   "source": []
  }
 ],
 "metadata": {
  "kernelspec": {
   "display_name": "Python 3",
   "language": "python",
   "name": "python3"
  },
  "language_info": {
   "codemirror_mode": {
    "name": "ipython",
    "version": 3
   },
   "file_extension": ".py",
   "mimetype": "text/x-python",
   "name": "python",
   "nbconvert_exporter": "python",
   "pygments_lexer": "ipython3",
   "version": "3.11.9"
  }
 },
 "nbformat": 4,
 "nbformat_minor": 2
}

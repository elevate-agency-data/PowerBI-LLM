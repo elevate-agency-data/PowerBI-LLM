{
 "cells": [
  {
   "cell_type": "code",
   "execution_count": 1,
   "metadata": {},
   "outputs": [
    {
     "name": "stdout",
     "output_type": "stream",
     "text": [
      "Fine-tuning job created successfully with ID: ftjob-lbX4tvNotjUuWXQgc65Ss3Td\n"
     ]
    }
   ],
   "source": [
    "import openai\n",
    "\n",
    "# Define a function to open a file and return its contents as a string\n",
    "def open_file(filepath):\n",
    "    with open(filepath, 'r', encoding='utf-8') as infile:\n",
    "        return infile.read()\n",
    "\n",
    "# Define a function to save content to a file\n",
    "def save_file(filepath, content):\n",
    "    with open(filepath, 'a', encoding='utf-8') as outfile:\n",
    "        outfile.write(content)\n",
    "\n",
    "# Set the OpenAI API keys by reading them from files\n",
    "api_key = open_file('openaiapikey.txt')\n",
    "\n",
    "openai.api_key = api_key\n",
    "\n",
    "# Using the provided file_id\n",
    "file_id = \"file-70Gj6uwzZBkRw7BbTwz4wMnl\"\n",
    "model_name = \"gpt-3.5-turbo\"  \n",
    "\n",
    "response = openai.FineTuningJob.create(\n",
    "    training_file=file_id,\n",
    "    model=model_name\n",
    ")\n",
    "\n",
    "job_id = response['id']\n",
    "print(f\"Fine-tuning job created successfully with ID: {job_id}\")\n"
   ]
  }
 ],
 "metadata": {
  "kernelspec": {
   "display_name": "Python 3",
   "language": "python",
   "name": "python3"
  },
  "language_info": {
   "codemirror_mode": {
    "name": "ipython",
    "version": 3
   },
   "file_extension": ".py",
   "mimetype": "text/x-python",
   "name": "python",
   "nbconvert_exporter": "python",
   "pygments_lexer": "ipython3",
   "version": "3.12.5"
  }
 },
 "nbformat": 4,
 "nbformat_minor": 2
}

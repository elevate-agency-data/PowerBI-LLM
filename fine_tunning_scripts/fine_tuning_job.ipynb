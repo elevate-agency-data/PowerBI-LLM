{
 "cells": [
  {
   "cell_type": "code",
   "execution_count": 14,
   "metadata": {},
   "outputs": [
    {
     "name": "stdout",
     "output_type": "stream",
     "text": [
      "Fine-tuning job created successfully with ID: ftjob-kFM5hizuhFj0sIhPOT2tmCUi\n"
     ]
    }
   ],
   "source": [
    "import openai\n",
    "\n",
    "# Define a function to open a file and return its contents as a string\n",
    "def open_file(filepath):\n",
    "    with open(filepath, 'r', encoding='utf-8') as infile:\n",
    "        return infile.read()\n",
    "\n",
    "# Define a function to save content to a file\n",
    "def save_file(filepath, content):\n",
    "    with open(filepath, 'a', encoding='utf-8') as outfile:\n",
    "        outfile.write(content)\n",
    "\n",
    "# Set the OpenAI API keys by reading them from files\n",
    "api_key = open_file('openaiapikey.txt')\n",
    "\n",
    "openai.api_key = api_key\n",
    "\n",
    "# Using the provided file_id\n",
    "file_id = \"file-mbpjINpXrWev8lSnzLyWSm3G\"\n",
    "model_name = \"gpt-3.5-turbo\"  \n",
    "\n",
    "response = openai.FineTuningJob.create(\n",
    "    training_file=file_id,\n",
    "    model=model_name\n",
    ")\n",
    "\n",
    "job_id = response['id']\n",
    "print(f\"Fine-tuning job created successfully with ID: {job_id}\")\n"
   ]
  },
  {
   "cell_type": "code",
   "execution_count": 17,
   "metadata": {},
   "outputs": [
    {
     "name": "stdout",
     "output_type": "stream",
     "text": [
      "{\n",
      "  \"object\": \"fine_tuning.job\",\n",
      "  \"id\": \"ftjob-kFM5hizuhFj0sIhPOT2tmCUi\",\n",
      "  \"model\": \"gpt-3.5-turbo-0125\",\n",
      "  \"created_at\": 1727082161,\n",
      "  \"finished_at\": null,\n",
      "  \"fine_tuned_model\": null,\n",
      "  \"organization_id\": \"org-HOvlY8u2syYLsCWiLIP88QJZ\",\n",
      "  \"result_files\": [],\n",
      "  \"status\": \"failed\",\n",
      "  \"validation_file\": null,\n",
      "  \"training_file\": \"file-mbpjINpXrWev8lSnzLyWSm3G\",\n",
      "  \"hyperparameters\": {\n",
      "    \"n_epochs\": \"auto\",\n",
      "    \"batch_size\": \"auto\",\n",
      "    \"learning_rate_multiplier\": \"auto\"\n",
      "  },\n",
      "  \"trained_tokens\": null,\n",
      "  \"error\": {\n",
      "    \"code\": \"invalid_n_examples\",\n",
      "    \"param\": \"training_file\",\n",
      "    \"message\": \"Training file has 7 example(s), but must have at least 10 examples\"\n",
      "  },\n",
      "  \"user_provided_suffix\": null,\n",
      "  \"seed\": 978383313,\n",
      "  \"estimated_finish\": null,\n",
      "  \"integrations\": []\n",
      "}\n"
     ]
    }
   ],
   "source": [
    "# Fonction pour vérifier l'état du travail de fine-tuning\n",
    "def check_fine_tune_status(job_id):\n",
    "    response = openai.FineTuningJob.retrieve(job_id)\n",
    "    return response\n",
    "\n",
    "# Récupérer l'ID du travail de fine-tuning\n",
    "job_id = \"ftjob-kFM5hizuhFj0sIhPOT2tmCUi\"\n",
    "\n",
    "status = check_fine_tune_status(job_id)\n",
    "print(status)"
   ]
  },
  {
   "cell_type": "code",
   "execution_count": 16,
   "metadata": {},
   "outputs": [
    {
     "name": "stdout",
     "output_type": "stream",
     "text": [
      "{\n",
      "  \"object\": \"fine_tuning.job\",\n",
      "  \"id\": \"ftjob-kFM5hizuhFj0sIhPOT2tmCUi\",\n",
      "  \"model\": \"gpt-3.5-turbo-0125\",\n",
      "  \"created_at\": 1727082161,\n",
      "  \"finished_at\": null,\n",
      "  \"fine_tuned_model\": null,\n",
      "  \"organization_id\": \"org-HOvlY8u2syYLsCWiLIP88QJZ\",\n",
      "  \"result_files\": [],\n",
      "  \"status\": \"validating_files\",\n",
      "  \"validation_file\": null,\n",
      "  \"training_file\": \"file-mbpjINpXrWev8lSnzLyWSm3G\",\n",
      "  \"hyperparameters\": {\n",
      "    \"n_epochs\": \"auto\",\n",
      "    \"batch_size\": \"auto\",\n",
      "    \"learning_rate_multiplier\": \"auto\"\n",
      "  },\n",
      "  \"trained_tokens\": null,\n",
      "  \"error\": {},\n",
      "  \"user_provided_suffix\": null,\n",
      "  \"seed\": 978383313,\n",
      "  \"estimated_finish\": null,\n",
      "  \"integrations\": []\n",
      "}\n"
     ]
    }
   ],
   "source": [
    "print(response)"
   ]
  },
  {
   "cell_type": "code",
   "execution_count": 9,
   "metadata": {},
   "outputs": [
    {
     "name": "stdout",
     "output_type": "stream",
     "text": [
      "To change the color of the slicer to green in the Power BI report, you need to modify the theme settings in the report.json file. Specifically, you will need to update the theme's \"slicer\" property to set the color to green.\n",
      "\n",
      "Here are the steps you can follow to make this change based on the original report.json file provided:\n",
      "\n",
      "1. Open the original report.json file located at \"jsons/rapport_original.json\" in a text editor or JSON editor.\n",
      "\n",
      "2. Search for the \"theme\" section in the JSON file.\n",
      "\n",
      "3. Within the \"theme\" section, look for the \"slicer\" property. If it doesn't exist, you can add it under the \"theme\" section.\n",
      "\n",
      "4. Modify the \"slicer\" property to set the color to green. The value should be a valid color code or name.\n",
      "\n",
      "Here is an example of how the \"slicer\" property may look after modifying it to set the color to green:\n",
      "\n",
      "```json\n",
      "\"theme\": {\n",
      "    \"slicer\": {\n",
      "        \"fontColor\": \"#FFFFFF\",\n",
      "        \"background\": \"#008000\"\n",
      "    }\n",
      "}\n",
      "```\n",
      "\n",
      "5. Save the modified report.json file.\n",
      "\n",
      "After making these changes, you can then import the modified report.json file back into Power BI to see the slicer color changed to green.\n"
     ]
    }
   ],
   "source": [
    "fine_tuned_model = \"\"\n",
    "json = \"jsons/rapport_original.json\"\n",
    "response = openai.ChatCompletion.create(\n",
    "  model=fine_tuned_model,\n",
    "  messages=[\n",
    "    {\"role\": \"system\", \"content\": \"You are an experienced Power BI engineer working extensively with Power BI pbix format reports. You are expected to modify the report.json file based on the user description.\"},\n",
    "    {\"role\": \"user\", \"content\": f\"Please change the color of the slicer to green from the report based on the below JSON file. JSON file ={json}\"}\n",
    "  ]\n",
    ")\n",
    "print(response['choices'][0]['message']['content'])"
   ]
  },
  {
   "cell_type": "code",
   "execution_count": null,
   "metadata": {},
   "outputs": [],
   "source": []
  }
 ],
 "metadata": {
  "kernelspec": {
   "display_name": "Python 3",
   "language": "python",
   "name": "python3"
  },
  "language_info": {
   "codemirror_mode": {
    "name": "ipython",
    "version": 3
   },
   "file_extension": ".py",
   "mimetype": "text/x-python",
   "name": "python",
   "nbconvert_exporter": "python",
   "pygments_lexer": "ipython3",
   "version": "3.11.9"
  }
 },
 "nbformat": 4,
 "nbformat_minor": 2
}

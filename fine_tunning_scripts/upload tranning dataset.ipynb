{
 "cells": [
  {
   "cell_type": "code",
   "execution_count": 1,
   "metadata": {},
   "outputs": [
    {
     "name": "stdout",
     "output_type": "stream",
     "text": [
      "Collecting openai==0.28.0\n",
      "  Downloading openai-0.28.0-py3-none-any.whl.metadata (13 kB)\n",
      "Requirement already satisfied: requests>=2.20 in c:\\users\\elevate\\appdata\\local\\packages\\pythonsoftwarefoundation.python.3.11_qbz5n2kfra8p0\\localcache\\local-packages\\python311\\site-packages (from openai==0.28.0) (2.32.3)\n",
      "Collecting tqdm (from openai==0.28.0)\n",
      "  Using cached tqdm-4.66.5-py3-none-any.whl.metadata (57 kB)\n",
      "Collecting aiohttp (from openai==0.28.0)\n",
      "  Using cached aiohttp-3.10.5-cp311-cp311-win_amd64.whl.metadata (7.8 kB)\n",
      "Requirement already satisfied: charset-normalizer<4,>=2 in c:\\users\\elevate\\appdata\\local\\packages\\pythonsoftwarefoundation.python.3.11_qbz5n2kfra8p0\\localcache\\local-packages\\python311\\site-packages (from requests>=2.20->openai==0.28.0) (3.3.2)\n",
      "Requirement already satisfied: idna<4,>=2.5 in c:\\users\\elevate\\appdata\\local\\packages\\pythonsoftwarefoundation.python.3.11_qbz5n2kfra8p0\\localcache\\local-packages\\python311\\site-packages (from requests>=2.20->openai==0.28.0) (3.10)\n",
      "Requirement already satisfied: urllib3<3,>=1.21.1 in c:\\users\\elevate\\appdata\\local\\packages\\pythonsoftwarefoundation.python.3.11_qbz5n2kfra8p0\\localcache\\local-packages\\python311\\site-packages (from requests>=2.20->openai==0.28.0) (2.2.3)\n",
      "Requirement already satisfied: certifi>=2017.4.17 in c:\\users\\elevate\\appdata\\local\\packages\\pythonsoftwarefoundation.python.3.11_qbz5n2kfra8p0\\localcache\\local-packages\\python311\\site-packages (from requests>=2.20->openai==0.28.0) (2024.8.30)\n",
      "Collecting aiohappyeyeballs>=2.3.0 (from aiohttp->openai==0.28.0)\n",
      "  Using cached aiohappyeyeballs-2.4.0-py3-none-any.whl.metadata (5.9 kB)\n",
      "Collecting aiosignal>=1.1.2 (from aiohttp->openai==0.28.0)\n",
      "  Using cached aiosignal-1.3.1-py3-none-any.whl.metadata (4.0 kB)\n",
      "Requirement already satisfied: attrs>=17.3.0 in c:\\users\\elevate\\appdata\\local\\packages\\pythonsoftwarefoundation.python.3.11_qbz5n2kfra8p0\\localcache\\local-packages\\python311\\site-packages (from aiohttp->openai==0.28.0) (24.2.0)\n",
      "Collecting frozenlist>=1.1.1 (from aiohttp->openai==0.28.0)\n",
      "  Using cached frozenlist-1.4.1-cp311-cp311-win_amd64.whl.metadata (12 kB)\n",
      "Collecting multidict<7.0,>=4.5 (from aiohttp->openai==0.28.0)\n",
      "  Using cached multidict-6.1.0-cp311-cp311-win_amd64.whl.metadata (5.1 kB)\n",
      "Collecting yarl<2.0,>=1.0 (from aiohttp->openai==0.28.0)\n",
      "  Using cached yarl-1.11.1-cp311-cp311-win_amd64.whl.metadata (49 kB)\n",
      "Requirement already satisfied: colorama in c:\\users\\elevate\\appdata\\local\\packages\\pythonsoftwarefoundation.python.3.11_qbz5n2kfra8p0\\localcache\\local-packages\\python311\\site-packages (from tqdm->openai==0.28.0) (0.4.6)\n",
      "Downloading openai-0.28.0-py3-none-any.whl (76 kB)\n",
      "   ---------------------------------------- 0.0/76.5 kB ? eta -:--:--\n",
      "   ----- ---------------------------------- 10.2/76.5 kB ? eta -:--:--\n",
      "   ---------------- ----------------------- 30.7/76.5 kB 435.7 kB/s eta 0:00:01\n",
      "   -------------------------------- ------- 61.4/76.5 kB 648.1 kB/s eta 0:00:01\n",
      "   ---------------------------------------- 76.5/76.5 kB 602.8 kB/s eta 0:00:00\n",
      "Using cached aiohttp-3.10.5-cp311-cp311-win_amd64.whl (379 kB)\n",
      "Using cached tqdm-4.66.5-py3-none-any.whl (78 kB)\n",
      "Using cached aiohappyeyeballs-2.4.0-py3-none-any.whl (12 kB)\n",
      "Using cached aiosignal-1.3.1-py3-none-any.whl (7.6 kB)\n",
      "Using cached frozenlist-1.4.1-cp311-cp311-win_amd64.whl (50 kB)\n",
      "Using cached multidict-6.1.0-cp311-cp311-win_amd64.whl (28 kB)\n",
      "Using cached yarl-1.11.1-cp311-cp311-win_amd64.whl (110 kB)\n",
      "Installing collected packages: tqdm, multidict, frozenlist, aiohappyeyeballs, yarl, aiosignal, aiohttp, openai\n",
      "Successfully installed aiohappyeyeballs-2.4.0 aiohttp-3.10.5 aiosignal-1.3.1 frozenlist-1.4.1 multidict-6.1.0 openai-0.28.0 tqdm-4.66.5 yarl-1.11.1\n",
      "Note: you may need to restart the kernel to use updated packages.\n"
     ]
    },
    {
     "name": "stderr",
     "output_type": "stream",
     "text": [
      "\n",
      "[notice] A new release of pip is available: 24.0 -> 24.2\n",
      "[notice] To update, run: C:\\Users\\Elevate\\AppData\\Local\\Microsoft\\WindowsApps\\PythonSoftwareFoundation.Python.3.11_qbz5n2kfra8p0\\python.exe -m pip install --upgrade pip\n"
     ]
    }
   ],
   "source": [
    "pip install openai==0.28.0"
   ]
  },
  {
   "cell_type": "code",
   "execution_count": 7,
   "metadata": {},
   "outputs": [
    {
     "name": "stdout",
     "output_type": "stream",
     "text": [
      "File uploaded successfully with ID: file-mbpjINpXrWev8lSnzLyWSm3G\n"
     ]
    }
   ],
   "source": [
    "import openai\n",
    "\n",
    "# Define a function to open a file and return its contents as a string\n",
    "def open_file(filepath):\n",
    "    with open(filepath, 'r', encoding='utf-8') as infile:\n",
    "        return infile.read()\n",
    "\n",
    "# Define a function to save content to a file\n",
    "def save_file(filepath, content):\n",
    "    with open(filepath, 'a', encoding='utf-8') as outfile:\n",
    "        outfile.write(content)\n",
    "\n",
    "# Set the OpenAI API keys by reading them from files\n",
    "api_key = open_file('openaiapikey.txt')\n",
    "\n",
    "openai.api_key = api_key\n",
    "\n",
    "# Assuming the file name is 'processed_data.jsonl'\n",
    "with open(\"C:/Users/Elevate/Documents/PowerBI_LLM/PowerBI-LLM/bdd.jsonl\", \"rb\") as file:\n",
    "    response = openai.File.create(\n",
    "        file=file,\n",
    "        purpose='fine-tune'\n",
    "    )\n",
    "\n",
    "file_id = response['id']\n",
    "print(f\"File uploaded successfully with ID: {file_id}\")\n"
   ]
  }
 ],
 "metadata": {
  "kernelspec": {
   "display_name": "Python 3",
   "language": "python",
   "name": "python3"
  },
  "language_info": {
   "codemirror_mode": {
    "name": "ipython",
    "version": 3
   },
   "file_extension": ".py",
   "mimetype": "text/x-python",
   "name": "python",
   "nbconvert_exporter": "python",
   "pygments_lexer": "ipython3",
   "version": "3.11.9"
  }
 },
 "nbformat": 4,
 "nbformat_minor": 2
}

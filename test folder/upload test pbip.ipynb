{
 "cells": [
  {
   "cell_type": "code",
   "execution_count": 1,
   "metadata": {},
   "outputs": [],
   "source": [
    "import streamlit as st\n",
    "import openai\n",
    "import json\n",
    "import ast\n",
    "import pandas as pd"
   ]
  },
  {
   "cell_type": "code",
   "execution_count": 2,
   "metadata": {},
   "outputs": [],
   "source": [
    "openai_api_key = \"\"\n",
    "openai.api_key = openai_api_key"
   ]
  },
  {
   "cell_type": "code",
   "execution_count": 3,
   "metadata": {},
   "outputs": [],
   "source": [
    "# Path to the JSON file\n",
    "file_path = \"report.json\"\n",
    "\n",
    "# Open and read the JSON file\n",
    "with open(file_path, 'r') as file:\n",
    "    data = json.load(file)"
   ]
  },
  {
   "cell_type": "code",
   "execution_count": 1,
   "metadata": {},
   "outputs": [],
   "source": [
    "# data['sections']"
   ]
  },
  {
   "cell_type": "code",
   "execution_count": 29,
   "metadata": {},
   "outputs": [],
   "source": [
    "config_data = data['sections'][0]['visualContainers'][27]['config']\n",
    "config_data = json.loads(config_data)"
   ]
  },
  {
   "cell_type": "code",
   "execution_count": 41,
   "metadata": {},
   "outputs": [
    {
     "data": {
      "text/plain": [
       "'Boutique Name'"
      ]
     },
     "execution_count": 41,
     "metadata": {},
     "output_type": "execute_result"
    }
   ],
   "source": [
    "config_data['singleVisual']['prototypeQuery']['Select'][0]['NativeReferenceName']"
   ]
  },
  {
   "cell_type": "code",
   "execution_count": 17,
   "metadata": {},
   "outputs": [],
   "source": [
    "# config_data"
   ]
  },
  {
   "cell_type": "code",
   "execution_count": 4,
   "metadata": {},
   "outputs": [
    {
     "name": "stdout",
     "output_type": "stream",
     "text": [
      "       page name         visual name visual type\n",
      "0       Scope FA       Boutique Name      slicer\n",
      "1       Scope FA                Date      slicer\n",
      "2       Scope FA  InchanelBtq_Status      slicer\n",
      "3       Scope FA             Country      slicer\n",
      "4        Digital                Date      slicer\n",
      "5        Digital             Country      slicer\n",
      "6        Digital       Boutique Name      slicer\n",
      "7        Digital           Date.Date      slicer\n",
      "8   Client Focus                Date      slicer\n",
      "9   Client Focus           Date.Date      slicer\n",
      "10  Client Focus       Boutique Name      slicer\n",
      "11  Client Focus             Country      slicer\n",
      "12        Mirror                Date      slicer\n",
      "13        Mirror       Boutique Name      slicer\n",
      "14        Mirror           Date.Date      slicer\n",
      "15        Mirror             Country      slicer\n"
     ]
    }
   ],
   "source": [
    "dict_page_slicers = {}\n",
    "\n",
    "for section in data.get(\"sections\", []):\n",
    "    # only include the pages which are not hidden in the dashboard\n",
    "    page_config = json.loads(section['config'])\n",
    "    if page_config.get('visibility') != 1:\n",
    "        # slicer_list_per_page = []\n",
    "        slicer_list_per_page = {}\n",
    "        # Store displayName to know the section/page name\n",
    "        section_summary = {\n",
    "            \"displayName\": section.get(\"displayName\", \"\"),\n",
    "            \"visualContainers\": []\n",
    "        }\n",
    "\n",
    "        # Process each visual container in the section\n",
    "        for i in range(len(section.get(\"visualContainers\", []))):\n",
    "            visual = section.get(\"visualContainers\", [])[i]\n",
    "            # Parse config if it's a string\n",
    "            config_data = visual.get(\"config\", {})\n",
    "            if isinstance(config_data, str):\n",
    "                config_data = json.loads(config_data)\n",
    "\n",
    "                visual_type_to_be_included = ['slicer']\n",
    "                if config_data.get(\"singleVisual\", {}).get(\"visualType\", \"\") in visual_type_to_be_included:\n",
    "                    visual_type = config_data.get(\"singleVisual\", {}).get(\"visualType\", \"\")\n",
    "                    if 'NativeReferenceName' in config_data['singleVisual']['prototypeQuery']['Select'][0]:\n",
    "                        slicer_name = config_data['singleVisual']['prototypeQuery']['Select'][0]['NativeReferenceName']\n",
    "                    else: slicer_name = config_data['singleVisual']['prototypeQuery']['Select'][0]['Name']\n",
    "                    # slicer_list_per_page.append(slicer_name)\n",
    "                    slicer_list_per_page[slicer_name] = visual_type\n",
    "\n",
    "        dict_page_slicers[section.get(\"displayName\", \"\")] = slicer_list_per_page\n",
    "\n",
    "# List to store each row as a dictionary\n",
    "rows = []\n",
    "\n",
    "# Loop through each page and its visuals\n",
    "for page_name, visuals in dict_page_slicers.items():\n",
    "    for visual_name, visual_type in visuals.items():\n",
    "        # Append a dictionary for each visual\n",
    "        rows.append({\n",
    "            \"page name\": page_name,\n",
    "            \"visual name\": visual_name,\n",
    "            \"visual type\": visual_type\n",
    "        })\n",
    "\n",
    "# Convert list of dictionaries into a DataFrame\n",
    "df = pd.DataFrame(rows)\n",
    "\n",
    "# Display the DataFrame\n",
    "print(df)"
   ]
  },
  {
   "cell_type": "code",
   "execution_count": 7,
   "metadata": {},
   "outputs": [],
   "source": [
    "function_descriptions = [\n",
    "    {\n",
    "        \"name\": \"summary_in_target_platform\",\n",
    "        \"description\": \"Generate documentation for a Power BI report tailored to a specified platform and language.\",\n",
    "        \"parameters\": {\n",
    "            \"type\": \"object\",\n",
    "            \"properties\": {\n",
    "                \"language\": {\n",
    "                    \"type\": \"string\",\n",
    "                    \"description\": \"The language in which the documentation should be written (e.g., English, French).\"\n",
    "                },\n",
    "                \"platform\": {\n",
    "                    \"type\": \"string\",\n",
    "                    \"description\": \"The target platform where the documentation will be used (e.g., Confluence, SharePoint).\"\n",
    "                }\n",
    "            }\n",
    "        }\n",
    "    },\n",
    "    {\n",
    "        \"name\": \"uniformize_visuals\",\n",
    "        \"description\": \"This function automates the standardization of visual styles across different pages of a Power BI dashboard. It updates the formatting of specified target visuals to match the style of a designated source visual. The function ensures consistent visual presentation, aiding in seamless user experiences across various dashboard pages.\",\n",
    "        \"parameters\": {\n",
    "            \"type\": \"object\",\n",
    "            \"properties\": {\n",
    "                \"source\": {\n",
    "                    \"type\": \"object\",\n",
    "                    \"properties\": {\n",
    "                        \"source_page\": {\n",
    "                            \"type\": \"string\",\n",
    "                            \"description\": \"Specifies the page name where the source visual is located. This value must correspond to the 'page name' column of the dataframe. Only one source page is allowed.\"\n",
    "                        },\n",
    "                        \"source_visual\": {\n",
    "                            \"type\": \"string\",\n",
    "                            \"description\": \"The name of the visual on the source page used as the formatting template. This should be extracted from the 'visual name' column of the dataframe. Only one source visual is permitted.\"\n",
    "                        }\n",
    "                    }\n",
    "                },\n",
    "                \"target\": {\n",
    "                    \"type\": \"array\",\n",
    "                    \"items\": {\n",
    "                        \"type\": \"object\",\n",
    "                        \"properties\": {\n",
    "                            \"target_page\": {\n",
    "                                \"type\": \"string\",\n",
    "                                \"description\": \"The name of the page containing the target visuals that will be updated. This is taken from the 'page name' column of the dataframe. Multiple target pages can be specified.\"\n",
    "                            },\n",
    "                            \"target_visual\": {\n",
    "                                \"type\": \"string\",\n",
    "                                \"description\": \"The identifier of each target visual on the target page to be formatted. These identifiers are sourced from the 'visual name' column of the dataframe. Multiple target visuals can be specified per page.\"\n",
    "                            }\n",
    "                        }\n",
    "                    }\n",
    "                }\n",
    "            }\n",
    "        }\n",
    "    }\n",
    "]"
   ]
  },
  {
   "cell_type": "code",
   "execution_count": 9,
   "metadata": {},
   "outputs": [],
   "source": [
    "def generate_completion(user_input):\n",
    "    completion = openai.ChatCompletion.create(\n",
    "        model=\"gpt-3.5-turbo\",\n",
    "        messages=[{\"role\": \"user\", \"content\": user_input}],\n",
    "        functions=function_descriptions,\n",
    "        function_call=\"auto\",  # Let the model decide if it needs to call the function\n",
    "    )\n",
    "    arguments = completion.choices[0].message[\"function_call\"][\"arguments\"]\n",
    "    return arguments\n",
    "    # return completion.choices[0].message if completion.choices else {}"
   ]
  },
  {
   "cell_type": "code",
   "execution_count": 16,
   "metadata": {},
   "outputs": [
    {
     "name": "stdout",
     "output_type": "stream",
     "text": [
      "{\"source\":{\"source_page\":\"Scope FA\",\"source_visual\":\"Date\"},\"target\":[{\"target_page\":\"Scope FA\",\"target_visual\":\"Boutique Name\"},{\"target_page\":\"Scope FA\",\"target_visual\":\"InchanelBtq_Status\"},{\"target_page\":\"Scope FA\",\"target_visual\":\"Country\"},{\"target_page\":\"Digital\",\"target_visual\":\"Date\"},{\"target_page\":\"Digital\",\"target_visual\":\"Country\"},{\"target_page\":\"Digital\",\"target_visual\":\"Boutique Name\"},{\"target_page\":\"Digital\",\"target_visual\":\"Date.Date\"},{\"target_page\":\"Client Focus\",\"target_visual\":\"Date\"},{\"target_page\":\"Client Focus\",\"target_visual\":\"Date.Date\"},{\"target_page\":\"Client Focus\",\"target_visual\":\"Boutique Name\"},{\"target_page\":\"Client Focus\",\"target_visual\":\"Country\"},{\"target_page\":\"Mirror\",\"target_visual\":\"Date\"},{\"target_page\":\"Mirror\",\"target_visual\":\"Boutique Name\"},{\"target_page\":\"Mirror\",\"target_visual\":\"Date.Date\"},{\"target_page\":\"Mirror\",\"target_visual\":\"Country\"}]}\n"
     ]
    }
   ],
   "source": [
    "# user_prompt1 = (\n",
    "#     \"I want to update all the slicers on the 'Digital' and 'Client Focus' pages so that their date slicers match the format of the 'Date' slicer on the 'Scope FA' page. \"\n",
    "# )\n",
    "\n",
    "user_prompt2 = (\n",
    "    \"I want to update the slicers all the pages in the dashboard so that their format match the 'Date' slicer on the 'Scope FA' page. \"\n",
    ")\n",
    "\n",
    "total_prompt = (\n",
    "    \"You are an assistant designed to identify the source page, source visuals, target page, and target visuals based on user input. \"\n",
    "    \"Your answer should be based on the given DataFrame, which contains information about all the pages and visuals in the dashboard. \"\n",
    "    \"It is essential to understand the user's intention and ensure that nothing in the DataFrame is omitted. \"\n",
    "    \"For example, if the user does not specify a particular page for uniformization, they might want to apply uniformization to all the pages.\\n\"\n",
    "    f\"Here is the user input: {user_prompt2}\\n\"\n",
    "    f\"Here is the DataFrame you should base your analysis on:\\n{df}\"\n",
    ")\n",
    "\n",
    "output = generate_completion(total_prompt)\n",
    "print(output)\n",
    "# print(output.get(\"function_call\", {}).get(\"name\"))"
   ]
  }
 ],
 "metadata": {
  "kernelspec": {
   "display_name": "Python 3",
   "language": "python",
   "name": "python3"
  },
  "language_info": {
   "codemirror_mode": {
    "name": "ipython",
    "version": 3
   },
   "file_extension": ".py",
   "mimetype": "text/x-python",
   "name": "python",
   "nbconvert_exporter": "python",
   "pygments_lexer": "ipython3",
   "version": "3.12.8"
  }
 },
 "nbformat": 4,
 "nbformat_minor": 2
}

{
 "cells": [
  {
   "cell_type": "code",
   "execution_count": 1,
   "metadata": {},
   "outputs": [],
   "source": [
    "import pandas as pd\n",
    "import json\n",
    "from typing import Dict, List\n",
    "import openai\n",
    "from dotenv import load_dotenv\n",
    "import os\n",
    "import sys\n",
    "import zipfile\n",
    "import os\n",
    "import shutil\n",
    "import json\n",
    "import io"
   ]
  },
  {
   "cell_type": "code",
   "execution_count": 2,
   "metadata": {},
   "outputs": [],
   "source": [
    "# Load environment variables\n",
    "load_dotenv()\n",
    "# Get API key from environment variable\n",
    "openai.api_key = os.getenv(\"OPENAI_API_KEY\")"
   ]
  },
  {
   "cell_type": "code",
   "execution_count": 30,
   "metadata": {},
   "outputs": [],
   "source": [
    "def extract_report_and_model(zip_file):\n",
    "    \"\"\"Extract report.json and model.bim from the uploaded PBIP folder\"\"\"\n",
    "    # Extract the zip file\n",
    "    extract_path = '/mnt/data/pbip_extracted/'\n",
    "\n",
    "    # Each time, we first remove the entire directory and its contents\n",
    "    if os.path.exists(extract_path):\n",
    "        shutil.rmtree(extract_path)\n",
    "\n",
    "    with zipfile.ZipFile(zip_file, 'r') as zip_ref:\n",
    "        zip_ref.extractall(extract_path)\n",
    "\n",
    "    # sometimes there is a sub-folder after extraction and sometimes not. This is a workaround to handle both cases and need to be investigated in the future\n",
    "    if len(os.listdir(extract_path)) == 1:\n",
    "        inner_folder_name = os.listdir(extract_path)[0]\n",
    "        inner_folder_path = os.path.join(extract_path, inner_folder_name)\n",
    "    else:\n",
    "        inner_folder_path = extract_path\n",
    "    inner_folder_contents = os.listdir(inner_folder_path)\n",
    "    report_folder_path = None\n",
    "    model_bim_path = None\n",
    "\n",
    "    # Look for the folder that ends with '.Report' or '.SemanticModel'\n",
    "    for folder in inner_folder_contents:\n",
    "        full_folder_path = os.path.join(inner_folder_path, folder)\n",
    "        if folder.endswith('.Report') and os.path.isdir(full_folder_path):\n",
    "            report_folder_path = full_folder_path\n",
    "        elif folder.endswith('.SemanticModel') and os.path.isdir(full_folder_path):\n",
    "            model_folder_path = full_folder_path\n",
    "\n",
    "    # Extract report.json\n",
    "    if report_folder_path:\n",
    "        report_json_path = os.path.join(report_folder_path, 'report.json')\n",
    "        with open(report_json_path, 'r', encoding='utf-8') as file:\n",
    "            report_json_content = json.load(file)\n",
    "    else:\n",
    "        report_json_content = None\n",
    "\n",
    "    # Extract model.bim\n",
    "    if model_folder_path:\n",
    "        model_bim_path = os.path.join(model_folder_path, 'model.bim')\n",
    "        if os.path.exists(model_bim_path):\n",
    "            with open(model_bim_path, 'r', encoding='utf-8') as file:\n",
    "                model_bim_content = json.load(file)\n",
    "        else:\n",
    "            model_bim_content = None\n",
    "\n",
    "    return report_json_content, model_bim_content, inner_folder_path, report_json_path, model_bim_path\n"
   ]
  },
  {
   "cell_type": "code",
   "execution_count": 32,
   "metadata": {},
   "outputs": [],
   "source": [
    "# zip_file = '../pbip examples/contenus_ftv.zip'\n",
    "zip_file = '../pbip examples/Content Performance Dashboard.zip'\n",
    "\n",
    "report_json_content, model_bim_content, inner_folder_path, report_json_path, model_bim_path = extract_report_and_model(zip_file)"
   ]
  }
 ],
 "metadata": {
  "kernelspec": {
   "display_name": "Python 3",
   "language": "python",
   "name": "python3"
  },
  "language_info": {
   "codemirror_mode": {
    "name": "ipython",
    "version": 3
   },
   "file_extension": ".py",
   "mimetype": "text/x-python",
   "name": "python",
   "nbconvert_exporter": "python",
   "pygments_lexer": "ipython3",
   "version": "3.12.2"
  }
 },
 "nbformat": 4,
 "nbformat_minor": 2
}

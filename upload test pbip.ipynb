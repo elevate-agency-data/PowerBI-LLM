{
 "cells": [
  {
   "cell_type": "code",
   "execution_count": 11,
   "metadata": {},
   "outputs": [],
   "source": [
    "import streamlit as st\n",
    "import openai\n",
    "import json\n",
    "import ast\n",
    "import pandas as pd"
   ]
  },
  {
   "cell_type": "code",
   "execution_count": 2,
   "metadata": {},
   "outputs": [],
   "source": [
    "openai_api_key = \"\"\n",
    "openai.api_key = openai_api_key"
   ]
  },
  {
   "cell_type": "code",
   "execution_count": 13,
   "metadata": {},
   "outputs": [],
   "source": [
    "# Path to the JSON file\n",
    "file_path = \"jsons_train/unif_filtres/airbnb.json\"\n",
    "\n",
    "# Open and read the JSON file\n",
    "with open(file_path, 'r') as file:\n",
    "    data = json.load(file)"
   ]
  },
  {
   "cell_type": "code",
   "execution_count": 1,
   "metadata": {},
   "outputs": [],
   "source": [
    "# data['sections']"
   ]
  },
  {
   "cell_type": "code",
   "execution_count": 15,
   "metadata": {},
   "outputs": [
    {
     "ename": "TypeError",
     "evalue": "the JSON object must be str, bytes or bytearray, not dict",
     "output_type": "error",
     "traceback": [
      "\u001b[1;31m---------------------------------------------------------------------------\u001b[0m",
      "\u001b[1;31mTypeError\u001b[0m                                 Traceback (most recent call last)",
      "Cell \u001b[1;32mIn[15], line 2\u001b[0m\n\u001b[0;32m      1\u001b[0m \u001b[38;5;66;03m#config_data = data['sections'][0]['visualContainers'][27]['config']\u001b[39;00m\n\u001b[1;32m----> 2\u001b[0m config_data \u001b[38;5;241m=\u001b[39m \u001b[43mjson\u001b[49m\u001b[38;5;241;43m.\u001b[39;49m\u001b[43mloads\u001b[49m\u001b[43m(\u001b[49m\u001b[43mconfig_data\u001b[49m\u001b[43m)\u001b[49m\n",
      "File \u001b[1;32mC:\\Program Files\\WindowsApps\\PythonSoftwareFoundation.Python.3.11_3.11.2544.0_x64__qbz5n2kfra8p0\\Lib\\json\\__init__.py:339\u001b[0m, in \u001b[0;36mloads\u001b[1;34m(s, cls, object_hook, parse_float, parse_int, parse_constant, object_pairs_hook, **kw)\u001b[0m\n\u001b[0;32m    337\u001b[0m \u001b[38;5;28;01melse\u001b[39;00m:\n\u001b[0;32m    338\u001b[0m     \u001b[38;5;28;01mif\u001b[39;00m \u001b[38;5;129;01mnot\u001b[39;00m \u001b[38;5;28misinstance\u001b[39m(s, (\u001b[38;5;28mbytes\u001b[39m, \u001b[38;5;28mbytearray\u001b[39m)):\n\u001b[1;32m--> 339\u001b[0m         \u001b[38;5;28;01mraise\u001b[39;00m \u001b[38;5;167;01mTypeError\u001b[39;00m(\u001b[38;5;124mf\u001b[39m\u001b[38;5;124m'\u001b[39m\u001b[38;5;124mthe JSON object must be str, bytes or bytearray, \u001b[39m\u001b[38;5;124m'\u001b[39m\n\u001b[0;32m    340\u001b[0m                         \u001b[38;5;124mf\u001b[39m\u001b[38;5;124m'\u001b[39m\u001b[38;5;124mnot \u001b[39m\u001b[38;5;132;01m{\u001b[39;00ms\u001b[38;5;241m.\u001b[39m\u001b[38;5;18m__class__\u001b[39m\u001b[38;5;241m.\u001b[39m\u001b[38;5;18m__name__\u001b[39m\u001b[38;5;132;01m}\u001b[39;00m\u001b[38;5;124m'\u001b[39m)\n\u001b[0;32m    341\u001b[0m     s \u001b[38;5;241m=\u001b[39m s\u001b[38;5;241m.\u001b[39mdecode(detect_encoding(s), \u001b[38;5;124m'\u001b[39m\u001b[38;5;124msurrogatepass\u001b[39m\u001b[38;5;124m'\u001b[39m)\n\u001b[0;32m    343\u001b[0m \u001b[38;5;28;01mif\u001b[39;00m (\u001b[38;5;28mcls\u001b[39m \u001b[38;5;129;01mis\u001b[39;00m \u001b[38;5;28;01mNone\u001b[39;00m \u001b[38;5;129;01mand\u001b[39;00m object_hook \u001b[38;5;129;01mis\u001b[39;00m \u001b[38;5;28;01mNone\u001b[39;00m \u001b[38;5;129;01mand\u001b[39;00m\n\u001b[0;32m    344\u001b[0m         parse_int \u001b[38;5;129;01mis\u001b[39;00m \u001b[38;5;28;01mNone\u001b[39;00m \u001b[38;5;129;01mand\u001b[39;00m parse_float \u001b[38;5;129;01mis\u001b[39;00m \u001b[38;5;28;01mNone\u001b[39;00m \u001b[38;5;129;01mand\u001b[39;00m\n\u001b[0;32m    345\u001b[0m         parse_constant \u001b[38;5;129;01mis\u001b[39;00m \u001b[38;5;28;01mNone\u001b[39;00m \u001b[38;5;129;01mand\u001b[39;00m object_pairs_hook \u001b[38;5;129;01mis\u001b[39;00m \u001b[38;5;28;01mNone\u001b[39;00m \u001b[38;5;129;01mand\u001b[39;00m \u001b[38;5;129;01mnot\u001b[39;00m kw):\n",
      "\u001b[1;31mTypeError\u001b[0m: the JSON object must be str, bytes or bytearray, not dict"
     ]
    }
   ],
   "source": [
    "#config_data = data['sections'][0]['visualContainers'][27]['config']\n",
    "config_data = json.loads(config_data)"
   ]
  },
  {
   "cell_type": "code",
   "execution_count": 16,
   "metadata": {},
   "outputs": [
    {
     "ename": "KeyError",
     "evalue": "'prototypeQuery'",
     "output_type": "error",
     "traceback": [
      "\u001b[1;31m---------------------------------------------------------------------------\u001b[0m",
      "\u001b[1;31mKeyError\u001b[0m                                  Traceback (most recent call last)",
      "Cell \u001b[1;32mIn[16], line 1\u001b[0m\n\u001b[1;32m----> 1\u001b[0m \u001b[43mconfig_data\u001b[49m\u001b[43m[\u001b[49m\u001b[38;5;124;43m'\u001b[39;49m\u001b[38;5;124;43msingleVisual\u001b[39;49m\u001b[38;5;124;43m'\u001b[39;49m\u001b[43m]\u001b[49m\u001b[43m[\u001b[49m\u001b[38;5;124;43m'\u001b[39;49m\u001b[38;5;124;43mprototypeQuery\u001b[39;49m\u001b[38;5;124;43m'\u001b[39;49m\u001b[43m]\u001b[49m[\u001b[38;5;124m'\u001b[39m\u001b[38;5;124mSelect\u001b[39m\u001b[38;5;124m'\u001b[39m][\u001b[38;5;241m0\u001b[39m][\u001b[38;5;124m'\u001b[39m\u001b[38;5;124mNativeReferenceName\u001b[39m\u001b[38;5;124m'\u001b[39m]\n",
      "\u001b[1;31mKeyError\u001b[0m: 'prototypeQuery'"
     ]
    }
   ],
   "source": [
    "config_data['singleVisual']['prototypeQuery']['Select'][0]['NativeReferenceName']"
   ]
  },
  {
   "cell_type": "code",
   "execution_count": 7,
   "metadata": {},
   "outputs": [],
   "source": [
    "#config_data"
   ]
  },
  {
   "cell_type": "code",
   "execution_count": 28,
   "metadata": {},
   "outputs": [
    {
     "name": "stdout",
     "output_type": "stream",
     "text": [
      "  page name          visual name           visual type\n",
      "0    Page 1  cancellation_policy  advancedSlicerVisual\n",
      "1    Page 1            room type                slicer\n",
      "2    Page 1  neighbourhood group                slicer\n"
     ]
    }
   ],
   "source": [
    "dict_page_slicers = {}\n",
    "\n",
    "for section in data.get(\"sections\", []):\n",
    "    # only include the pages which are not hidden in the dashboard\n",
    "    page_config = json.loads(section['config'])\n",
    "    if page_config.get('visibility') != 1:\n",
    "        # slicer_list_per_page = []\n",
    "        slicer_list_per_page = {}\n",
    "        # Store displayName to know the section/page name\n",
    "        section_summary = {\n",
    "            \"displayName\": section.get(\"displayName\", \"\"),\n",
    "            \"visualContainers\": []\n",
    "        }\n",
    "\n",
    "        # Process each visual container in the section\n",
    "        for i in range(len(section.get(\"visualContainers\", []))):\n",
    "            visual = section.get(\"visualContainers\", [])[i]\n",
    "            # Parse config if it's a string\n",
    "            config_data = visual.get(\"config\", {})\n",
    "            if isinstance(config_data, str):\n",
    "                config_data = json.loads(config_data)\n",
    "\n",
    "                visual_type_to_be_included = ['slicer', 'advancedSlicerVisual']\n",
    "                if config_data.get(\"singleVisual\", {}).get(\"visualType\", \"\") in visual_type_to_be_included:\n",
    "                    visual_type = config_data.get(\"singleVisual\", {}).get(\"visualType\", \"\")\n",
    "                    if 'NativeReferenceName' in config_data['singleVisual']['prototypeQuery']['Select'][0]:\n",
    "                        slicer_name = config_data['singleVisual']['prototypeQuery']['Select'][0]['NativeReferenceName']\n",
    "                    else: slicer_name = config_data['singleVisual']['prototypeQuery']['Select'][0]['Name']\n",
    "                    # slicer_list_per_page.append(slicer_name)\n",
    "                    slicer_list_per_page[slicer_name] = visual_type\n",
    "\n",
    "        dict_page_slicers[section.get(\"displayName\", \"\")] = slicer_list_per_page\n",
    "\n",
    "# List to store each row as a dictionary\n",
    "rows = []\n",
    "\n",
    "# Loop through each page and its visuals\n",
    "for page_name, visuals in dict_page_slicers.items():\n",
    "    for visual_name, visual_type in visuals.items():\n",
    "        # Append a dictionary for each visual\n",
    "        rows.append({\n",
    "            \"page name\": page_name,\n",
    "            \"visual name\": visual_name,\n",
    "            \"visual type\": visual_type\n",
    "        })\n",
    "\n",
    "# Convert list of dictionaries into a DataFrame\n",
    "df = pd.DataFrame(rows)\n",
    "\n",
    "# Display the DataFrame\n",
    "print(df)"
   ]
  },
  {
   "cell_type": "code",
   "execution_count": 27,
   "metadata": {},
   "outputs": [],
   "source": [
    "function_descriptions = [\n",
    "    {\n",
    "        \"name\": \"summary_in_target_platform\",\n",
    "        \"description\": \"Generate documentation for a Power BI report tailored to a specified platform and language.\",\n",
    "        \"parameters\": {\n",
    "            \"type\": \"object\",\n",
    "            \"properties\": {\n",
    "                \"language\": {\n",
    "                    \"type\": \"string\",\n",
    "                    \"description\": \"The language in which the documentation should be written (e.g., English, French).\"\n",
    "                },\n",
    "                \"platform\": {\n",
    "                    \"type\": \"string\",\n",
    "                    \"description\": \"The target platform where the documentation will be used (e.g., Confluence, SharePoint).\"\n",
    "                }\n",
    "            }\n",
    "        }\n",
    "    },\n",
    "    {\n",
    "        \"name\": \"uniformize_visuals\",\n",
    "        \"description\": \"This function automates the standardization of visual styles across different pages of a Power BI dashboard. It updates the formatting of specified target visuals to match the style of a designated source visual. The function ensures consistent visual presentation, aiding in seamless user experiences across various dashboard pages.\",\n",
    "        \"parameters\": {\n",
    "            \"type\": \"object\",\n",
    "            \"properties\": {\n",
    "                \"source\": {\n",
    "                    \"type\": \"object\",\n",
    "                    \"properties\": {\n",
    "                        \"source_page\": {\n",
    "                            \"type\": \"string\",\n",
    "                            \"description\": \"Specifies the page name where the source visual is located. This value must correspond to the 'page name' column of the dataframe. Only one source page is allowed.\"\n",
    "                        },\n",
    "                        \"source_visual\": {\n",
    "                            \"type\": \"string\",\n",
    "                            \"description\": \"The name of the visual on the source page used as the formatting template. This should be extracted from the 'visual name' column of the dataframe. Only one source visual is permitted.\"\n",
    "                        }\n",
    "                    }\n",
    "                },\n",
    "                \"target\": {\n",
    "                    \"type\": \"array\",\n",
    "                    \"items\": {\n",
    "                        \"type\": \"object\",\n",
    "                        \"properties\": {\n",
    "                            \"target_page\": {\n",
    "                                \"type\": \"string\",\n",
    "                                \"description\": \"The name of the page containing the target visuals that will be updated. This is taken from the 'page name' column of the dataframe. Multiple target pages can be specified.\"\n",
    "                            },\n",
    "                            \"target_visual\": {\n",
    "                                \"type\": \"string\",\n",
    "                                \"description\": \"The identifier of each target visual on the target page to be formatted. These identifiers are sourced from the 'visual name' column of the dataframe. Multiple target visuals can be specified per page.\"\n",
    "                            }\n",
    "                        }\n",
    "                    }\n",
    "                }\n",
    "            }\n",
    "        }\n",
    "    }\n",
    "]"
   ]
  },
  {
   "cell_type": "code",
   "execution_count": 20,
   "metadata": {},
   "outputs": [],
   "source": [
    "def generate_completion(user_input):\n",
    "    completion = openai.ChatCompletion.create(\n",
    "        model=\"gpt-3.5-turbo\",\n",
    "        messages=[{\"role\": \"user\", \"content\": user_input}],\n",
    "        functions=function_descriptions,\n",
    "        function_call=\"auto\",  # Let the model decide if it needs to call the function\n",
    "    )\n",
    "    arguments = completion.choices[0].message[\"function_call\"][\"arguments\"]\n",
    "    return arguments\n",
    "    # return completion.choices[0].message if completion.choices else {}"
   ]
  },
  {
   "cell_type": "code",
   "execution_count": 25,
   "metadata": {},
   "outputs": [
    {
     "name": "stdout",
     "output_type": "stream",
     "text": [
      "{\"source\":{\"source_page\":\"Page 1\",\"source_visual\":\"cancellation_policy\"},\"target\":[{\"target_page\":\"Page 1\",\"target_visual\":\"room type\"},{\"target_page\":\"Page 1\",\"target_visual\":\"neighbourhood group\"}]}\n"
     ]
    }
   ],
   "source": [
    "# user_prompt1 = (\n",
    "#     \"I want to update all the slicers on the 'Digital' and 'Client Focus' pages so that their date slicers match the format of the 'Date' slicer on the 'Scope FA' page. \"\n",
    "# )\n",
    "\n",
    "user_prompt2 = (\n",
    "    \"I want to update the slicers on all the pages in the dashboard so that their format match the 'cancellation policy' slicer on the 'Page 1' page. \"\n",
    ")\n",
    "\n",
    "total_prompt = (\n",
    "    \"You are an assistant designed to identify the source page, source visuals, target page, and target visuals based on user input. \"\n",
    "    \"Your answer should be based on the given DataFrame, which contains information about all the pages and visuals in the dashboard. \"\n",
    "    \"It is essential to understand the user's intention and ensure that nothing in the DataFrame is omitted.\"\n",
    "    \"For example, if the user does not specify a particular page for uniformization, they might want to apply uniformization to all the pages.\\n\"\n",
    "    f\"Here is the user input: {user_prompt2}\\n\"\n",
    "    f\"Here is the DataFrame you should base your analysis on:\\n{df}\"\n",
    ")\n",
    "\n",
    "output = generate_completion(total_prompt)\n",
    "print(output)\n",
    "# print(output.get(\"function_call\", {}).get(\"name\"))"
   ]
  },
  {
   "cell_type": "code",
   "execution_count": 23,
   "metadata": {},
   "outputs": [
    {
     "data": {
      "text/html": [
       "<div>\n",
       "<style scoped>\n",
       "    .dataframe tbody tr th:only-of-type {\n",
       "        vertical-align: middle;\n",
       "    }\n",
       "\n",
       "    .dataframe tbody tr th {\n",
       "        vertical-align: top;\n",
       "    }\n",
       "\n",
       "    .dataframe thead th {\n",
       "        text-align: right;\n",
       "    }\n",
       "</style>\n",
       "<table border=\"1\" class=\"dataframe\">\n",
       "  <thead>\n",
       "    <tr style=\"text-align: right;\">\n",
       "      <th></th>\n",
       "      <th>page name</th>\n",
       "      <th>visual name</th>\n",
       "      <th>visual type</th>\n",
       "    </tr>\n",
       "  </thead>\n",
       "  <tbody>\n",
       "    <tr>\n",
       "      <th>0</th>\n",
       "      <td>Page 1</td>\n",
       "      <td>cancellation_policy</td>\n",
       "      <td>advancedSlicerVisual</td>\n",
       "    </tr>\n",
       "    <tr>\n",
       "      <th>1</th>\n",
       "      <td>Page 1</td>\n",
       "      <td>room type</td>\n",
       "      <td>slicer</td>\n",
       "    </tr>\n",
       "    <tr>\n",
       "      <th>2</th>\n",
       "      <td>Page 1</td>\n",
       "      <td>neighbourhood group</td>\n",
       "      <td>slicer</td>\n",
       "    </tr>\n",
       "  </tbody>\n",
       "</table>\n",
       "</div>"
      ],
      "text/plain": [
       "  page name          visual name           visual type\n",
       "0    Page 1  cancellation_policy  advancedSlicerVisual\n",
       "1    Page 1            room type                slicer\n",
       "2    Page 1  neighbourhood group                slicer"
      ]
     },
     "execution_count": 23,
     "metadata": {},
     "output_type": "execute_result"
    }
   ],
   "source": [
    "df"
   ]
  }
 ],
 "metadata": {
  "kernelspec": {
   "display_name": "Python 3",
   "language": "python",
   "name": "python3"
  },
  "language_info": {
   "codemirror_mode": {
    "name": "ipython",
    "version": 3
   },
   "file_extension": ".py",
   "mimetype": "text/x-python",
   "name": "python",
   "nbconvert_exporter": "python",
   "pygments_lexer": "ipython3",
   "version": "3.11.9"
  }
 },
 "nbformat": 4,
 "nbformat_minor": 2
}
